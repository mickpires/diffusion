{
 "cells": [
  {
   "cell_type": "code",
   "execution_count": 14,
   "metadata": {},
   "outputs": [],
   "source": [
    "from sympy import symbols, Eq, solve, exp,I"
   ]
  },
  {
   "cell_type": "code",
   "execution_count": 16,
   "metadata": {},
   "outputs": [
    {
     "data": {
      "text/latex": [
       "$\\displaystyle \\xi^{\\tau} e^{i j k Δx} = - \\lambda \\xi^{\\tau + 1} e^{i k Δx \\left(j - 1\\right)} - \\lambda \\xi^{\\tau + 1} e^{i k Δx \\left(j + 1\\right)} + \\xi^{\\tau + 1} e^{i j k Δx}$"
      ],
      "text/plain": [
       "Eq(xi**tau*exp(I*j*k*Δx), -lambda*xi**(tau + 1)*exp(I*k*Δx*(j - 1)) - lambda*xi**(tau + 1)*exp(I*k*Δx*(j + 1)) + xi**(tau + 1)*exp(I*j*k*Δx))"
      ]
     },
     "execution_count": 16,
     "metadata": {},
     "output_type": "execute_result"
    }
   ],
   "source": [
    "# Definir as variáveis simbólicas\n",
    "xi = symbols('xi')\n",
    "tau, k, j, delta_x, lmbda = symbols('tau k j Δx lambda')\n",
    "\n",
    "# Definir a expressão\n",
    "expr1 = xi**(tau)* exp(I*k*j*delta_x)\n",
    "expr2 = -lmbda *xi**(tau+1)*exp(I * k*(j+1)*delta_x) + xi**(tau+1)*exp(I * k*j*delta_x) -lmbda *xi**(tau+1)*exp(I * k*(j-1)*delta_x)\n",
    "# Isolar a variável xi\n",
    "eq = Eq(expr1, expr2)\n",
    "eq"
   ]
  },
  {
   "cell_type": "code",
   "execution_count": 20,
   "metadata": {},
   "outputs": [
    {
     "data": {
      "text/plain": [
       "[I/(2*lambda*sin(delta_x*k))]"
      ]
     },
     "execution_count": 20,
     "metadata": {},
     "output_type": "execute_result"
    }
   ],
   "source": [
    "solve(eq,xi**1)"
   ]
  },
  {
   "cell_type": "code",
   "execution_count": 19,
   "metadata": {},
   "outputs": [
    {
     "name": "stdout",
     "output_type": "stream",
     "text": [
      "[I/(2*lambda*sin(delta_x*k))]\n"
     ]
    }
   ],
   "source": [
    "from sympy import symbols, Eq, solve, exp\n",
    "\n",
    "# Definir as variáveis simbólicas\n",
    "xi = symbols('xi')\n",
    "tau, k, j, delta_x, lmbda = symbols('tau k j delta_x lambda')\n",
    "\n",
    "# Definir a expressão\n",
    "expr = xi**(tau) * exp(I*k*j*delta_x) + lmbda * xi**(tau+1) * exp(I*k*(j+1)*delta_x) - lmbda * xi**(tau+1) * exp(I*k*(j-1)*delta_x)\n",
    "\n",
    "# Isolar a variável xi\n",
    "eq = Eq(expr, 0)\n",
    "sol = solve(eq, xi)\n",
    "\n",
    "print(sol)\n"
   ]
  }
 ],
 "metadata": {
  "kernelspec": {
   "display_name": "Python 3",
   "language": "python",
   "name": "python3"
  },
  "language_info": {
   "codemirror_mode": {
    "name": "ipython",
    "version": 3
   },
   "file_extension": ".py",
   "mimetype": "text/x-python",
   "name": "python",
   "nbconvert_exporter": "python",
   "pygments_lexer": "ipython3",
   "version": "3.11.2"
  },
  "orig_nbformat": 4
 },
 "nbformat": 4,
 "nbformat_minor": 2
}
