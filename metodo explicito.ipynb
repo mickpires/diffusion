{
 "cells": [
  {
   "cell_type": "code",
   "execution_count": 15,
   "metadata": {},
   "outputs": [],
   "source": [
    "import numpy as np\n",
    "import matplotlib.pyplot as plt\n",
    "from PIL import Image\n",
    "import os"
   ]
  },
  {
   "cell_type": "code",
   "execution_count": 16,
   "metadata": {},
   "outputs": [],
   "source": [
    "tempo_final = 100 #segundos\n",
    "Δt = 0.0001\n",
    "n = tempo_final/Δt\n",
    "L = 10\n",
    "D = .835 # coeficiente de difusão\n",
    "Δx = .1\n",
    "k = D*Δt/Δx**2\n",
    "xx = np.arange(0,L,Δx) # acho que isso não é necessário x = L/Δx.Isso é a malha espacial\n",
    "tt = np.arange(0,tempo_final,Δt) # acho que isso não é necessário t = T/Δt. Isso é a malha temporal\n",
    " "
   ]
  },
  {
   "cell_type": "code",
   "execution_count": 17,
   "metadata": {},
   "outputs": [
    {
     "data": {
      "text/plain": [
       "array([[0., 0., 0., ..., 0., 0., 0.],\n",
       "       [0., 0., 0., ..., 0., 0., 0.],\n",
       "       [0., 0., 0., ..., 0., 0., 0.],\n",
       "       ...,\n",
       "       [0., 0., 0., ..., 0., 0., 0.],\n",
       "       [0., 0., 0., ..., 0., 0., 0.],\n",
       "       [0., 0., 0., ..., 0., 0., 0.]])"
      ]
     },
     "execution_count": 17,
     "metadata": {},
     "output_type": "execute_result"
    }
   ],
   "source": [
    "#condição inicial u(x,0) = f(x)\n",
    "\n",
    "u = np.zeros((len(tt),len(xx)))\n",
    "f = lambda x: 0\n",
    "\n",
    "for x in range(len(xx)):\n",
    "    u[0,x] = f(x+1)\n",
    "u\n"
   ]
  },
  {
   "cell_type": "code",
   "execution_count": 18,
   "metadata": {},
   "outputs": [],
   "source": [
    "# condição de contorno u(0,t) = a(t) e u(L,t) = b(t)\n",
    "a = lambda t: 100\n",
    "b = lambda t: 50\n",
    "\n",
    "# Calcular a edp\n",
    "for t in range(len(tt)-1) :\n",
    "    for x in range(len(xx)):\n",
    "        if x == 0:\n",
    "            termo_anterior = a(t)\n",
    "            termo_posterior = u[t,x+1]\n",
    "        elif x + 1 == len(xx):\n",
    "            termo_anterior = u[t,x-1]\n",
    "            termo_posterior = b(t)\n",
    "        else:\n",
    "            termo_anterior = u[t,x-1]\n",
    "            termo_posterior = u[t,x+1]\n",
    "        \n",
    "        u[t+1,x] = k*(termo_posterior + termo_anterior) + u[t,x]*(1-2*k)\n",
    "u"
   ]
  },
  {
   "cell_type": "code",
   "execution_count": null,
   "metadata": {},
   "outputs": [
    {
     "data": {
      "text/plain": [
       "[<matplotlib.lines.Line2D at 0x217b6f38e90>]"
      ]
     },
     "execution_count": 12,
     "metadata": {},
     "output_type": "execute_result"
    },
    {
     "data": {
      "image/png": "[encoded data removed]",
      "text/plain": [
       "<Figure size 640x480 with 1 Axes>"
      ]
     },
     "metadata": {},
     "output_type": "display_data"
    }
   ],
   "source": [
    "plt.plot(tt,u[:,1])"
   ]
  },
  {
   "cell_type": "code",
   "execution_count": null,
   "metadata": {},
   "outputs": [],
   "source": [
    "# incremento = u.shape[0]/5000 # número de imagem que vai ser gerado\n",
    "# numero_imagem = 1\n",
    "\n",
    "# for i in range(0,u.shape[0],int(np.floor(incremento))):\n",
    "\n",
    "#     plt.plot(xx,u[i,:])\n",
    "#     plt.xlabel('Comprimento da barra (m)')\n",
    "#     plt.ylabel(\"densidade de calor\")\n",
    "#     plt.ylim(0,np.max(u))\n",
    "#     plt.xlim(0,L)\n",
    "#     plt.savefig(f'imagens/imagem{numero_imagem}.png')\n",
    "#     numero_imagem += 1\n",
    "#     plt.cla()"
   ]
  },
  {
   "attachments": {},
   "cell_type": "markdown",
   "metadata": {},
   "source": [
    "tentar fazer a animação usando o pillow"
   ]
  },
  {
   "cell_type": "code",
   "execution_count": null,
   "metadata": {},
   "outputs": [],
   "source": [
    "# # Caminho para a pasta com as imagens\n",
    "# folder_path = 'imagens/'\n",
    "\n",
    "# # Obter a lista de nomes de arquivos de imagem\n",
    "# image_files = [os.path.join(folder_path, file) for file in os.listdir(folder_path) if file.endswith('.png')]\n",
    "\n",
    "# # Função para extrair o número do nome do arquivo\n",
    "# def extract_number(filename):\n",
    "#     # Remover o prefixo e a extensão do nome do arquivo\n",
    "#     basename = os.path.basename(filename)\n",
    "#     number = basename.replace('imagem', '').replace('.png', '')\n",
    "#     # Converter para inteiro e retornar\n",
    "#     return int(number)\n",
    "\n",
    "# # Ordenar a lista de nomes de arquivos em ordem numérica\n",
    "# image_files.sort(key=extract_number)\n",
    "\n",
    "# # Criar a lista de objetos Image\n",
    "# images = [Image.open(image) for image in image_files]\n",
    "\n",
    "# # Salvar como GIF animado\n",
    "# images[0].save('animation.gif', save_all=True, append_images=images[1:], duration=100, loop=0)\n",
    "\n",
    "# for file in image_files:\n",
    "#     os.remove(file)"
   ]
  }
 ],
 "metadata": {
  "kernelspec": {
   "display_name": "Python 3",
   "language": "python",
   "name": "python3"
  },
  "language_info": {
   "codemirror_mode": {
    "name": "ipython",
    "version": 3
   },
   "file_extension": ".py",
   "mimetype": "text/x-python",
   "name": "python",
   "nbconvert_exporter": "python",
   "pygments_lexer": "ipython3",
   "version": "3.11.2"
  },
  "orig_nbformat": 4
 },
 "nbformat": 4,
 "nbformat_minor": 2
}
