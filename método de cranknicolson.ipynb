{
 "cells": [
  {
   "cell_type": "code",
   "execution_count": 17,
   "metadata": {},
   "outputs": [],
   "source": [
    "import numpy as np\n",
    "import matplotlib.pyplot as plt"
   ]
  },
  {
   "cell_type": "code",
   "execution_count": 18,
   "metadata": {},
   "outputs": [],
   "source": [
    "Δx = 2\n",
    "Δt = 0.1\n",
    "k = 0.835\n",
    "λ = k * Δt/Δx**2\n",
    "u = np.array([0,0,0,0])\n",
    "contorno = np.array([100,50])\n",
    "matriz_coeficiente = np.array(\n",
    "    [[2*(1+λ),-λ,0,0],\n",
    "     [-λ,2*(1+λ),-λ,0],\n",
    "     [0, -λ,2*(1+λ),-λ],\n",
    "     [0,0,-λ,2*(1+λ)]]\n",
    "     )\n",
    "\n",
    "matriz_ampliada = np.array(\n",
    "    [\n",
    "    λ*u[1] + 2*λ*contorno[0] + (1-λ)*u[0],\n",
    "    λ*u[2] + 2*(1-λ)*u[1] + λ*u[0],\n",
    "    λ*u[3] + 2*(1-λ)*u[2] + λ*u[1],\n",
    "    λ*u[2] + 2*λ*contorno[1] + (1-λ)*u[3]]).T"
   ]
  },
  {
   "cell_type": "code",
   "execution_count": 19,
   "metadata": {},
   "outputs": [
    {
     "name": "stdout",
     "output_type": "stream",
     "text": [
      "A matriz ampliada em 0.2 é\n",
      "[8.18011753 0.08407044 0.04267667 4.09006532]\n",
      "A matriz ampliada em 0.2 é\n",
      "[12.02395821  0.24624183  0.12625023  6.01202395]\n"
     ]
    }
   ],
   "source": [
    "t = 0.2\n",
    "for _ in np.arange(0,t,Δt):\n",
    "    u = np.linalg.solve(matriz_coeficiente,matriz_ampliada)\n",
    "    matriz_ampliada = np.array(\n",
    "    [\n",
    "    λ*u[1] + 2*λ*contorno[0] + 2*(1-λ)*u[0],\n",
    "    λ*u[2] + 2*(1-λ)*u[1] + λ*u[0],\n",
    "    λ*u[3] + 2*(1-λ)*u[2] + λ*u[1],\n",
    "    λ*u[2] + 2*λ*contorno[1] + 2*(1-λ)*u[3]]).T"
   ]
  },
  {
   "cell_type": "code",
   "execution_count": 20,
   "metadata": {},
   "outputs": [
    {
     "data": {
      "text/plain": [
       "array([4.00726894, 0.08257807, 0.04223172, 2.00364732])"
      ]
     },
     "execution_count": 20,
     "metadata": {},
     "output_type": "execute_result"
    }
   ],
   "source": [
    "u"
   ]
  }
 ],
 "metadata": {
  "kernelspec": {
   "display_name": "Python 3",
   "language": "python",
   "name": "python3"
  },
  "language_info": {
   "codemirror_mode": {
    "name": "ipython",
    "version": 3
   },
   "file_extension": ".py",
   "mimetype": "text/x-python",
   "name": "python",
   "nbconvert_exporter": "python",
   "pygments_lexer": "ipython3",
   "version": "3.11.2"
  },
  "orig_nbformat": 4
 },
 "nbformat": 4,
 "nbformat_minor": 2
}
