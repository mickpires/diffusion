{
 "cells": [
  {
   "cell_type": "code",
   "execution_count": 1,
   "metadata": {},
   "outputs": [],
   "source": [
    "import numpy as np\n",
    "import matplotlib.pyplot as plt\n",
    "from functions import *"
   ]
  },
  {
   "cell_type": "code",
   "execution_count": 2,
   "metadata": {},
   "outputs": [],
   "source": [
    "u= []\n",
    "L = 10 # comprimento da barra\n",
    "Δx = .1 #L / num_pontos\n",
    "Δt = 0.1\n",
    "tempo_final = 100\n",
    "num_pontos = int(np.ceil(tempo_final/Δt))\n",
    "k = 0.835\n",
    "λ = k * Δt/Δx**2\n",
    "condição_inicial = 0.\n",
    "contorno = np.array([100.,50.])\n",
    "variavel = np.ones(num_pontos) * condição_inicial\n",
    "xx = np.linspace(0,L,num_pontos)\n",
    "tt = np.linspace(0,tempo_final,num_pontos)\n",
    "matriz_coeficiente = CrankNicolson.gerarMatrizCoeficientes(num_pontos,λ)\n",
    "matriz_ampliada = CrankNicolson.gerarMatrizAmpliada(num_pontos,contorno,variavel,λ)"
   ]
  },
  {
   "cell_type": "code",
   "execution_count": 3,
   "metadata": {},
   "outputs": [
    {
     "data": {
      "text/plain": [
       "array([[ 6.175 , -2.0875,  0.    , ...,  0.    ,  0.    ,  0.    ],\n",
       "       [-2.0875,  6.175 , -2.0875, ...,  0.    ,  0.    ,  0.    ],\n",
       "       [ 0.    , -2.0875,  6.175 , ...,  0.    ,  0.    ,  0.    ],\n",
       "       ...,\n",
       "       [ 0.    ,  0.    ,  0.    , ...,  6.175 , -2.0875,  0.    ],\n",
       "       [ 0.    ,  0.    ,  0.    , ..., -2.0875,  6.175 , -2.0875],\n",
       "       [ 0.    ,  0.    ,  0.    , ...,  0.    , -2.0875,  6.175 ]])"
      ]
     },
     "execution_count": 3,
     "metadata": {},
     "output_type": "execute_result"
    }
   ],
   "source": [
    "matriz_coeficiente"
   ]
  },
  {
   "cell_type": "code",
   "execution_count": 4,
   "metadata": {},
   "outputs": [],
   "source": [
    "for _ in np.arange(0,tempo_final,Δt):\n",
    "    variavel = np.linalg.solve(matriz_coeficiente,matriz_ampliada)\n",
    "    u.append(variavel)\n",
    "    matriz_ampliada = CrankNicolson.gerarMatrizAmpliada(num_pontos,contorno,variavel,λ)"
   ]
  },
  {
   "cell_type": "code",
   "execution_count": 5,
   "metadata": {},
   "outputs": [],
   "source": [
    "u = np.array(u)"
   ]
  },
  {
   "cell_type": "code",
   "execution_count": 6,
   "metadata": {},
   "outputs": [
    {
     "data": {
      "text/plain": [
       "array([[[77.85747227],\n",
       "        [30.30892994],\n",
       "        [11.79888336],\n",
       "        ...,\n",
       "        [ 5.89944168],\n",
       "        [15.15446497],\n",
       "        [38.92873613]],\n",
       "\n",
       "       [[68.45026256],\n",
       "        [53.29364419],\n",
       "        [31.11981318],\n",
       "        ...,\n",
       "        [15.55990659],\n",
       "        [26.64682209],\n",
       "        [34.22513128]],\n",
       "\n",
       "       [[80.33573728],\n",
       "        [55.66563666],\n",
       "        [40.2853163 ],\n",
       "        ...,\n",
       "        [20.14265815],\n",
       "        [27.83281833],\n",
       "        [40.16786864]],\n",
       "\n",
       "       ...,\n",
       "\n",
       "       [[98.76395736],\n",
       "        [97.52821135],\n",
       "        [96.2930584 ],\n",
       "        ...,\n",
       "        [48.1465292 ],\n",
       "        [48.76410568],\n",
       "        [49.38197868]],\n",
       "\n",
       "       [[98.76457612],\n",
       "        [97.52944842],\n",
       "        [96.29491289],\n",
       "        ...,\n",
       "        [48.14745644],\n",
       "        [48.76472421],\n",
       "        [49.38228806]],\n",
       "\n",
       "       [[98.76519395],\n",
       "        [97.53068364],\n",
       "        [96.2967646 ],\n",
       "        ...,\n",
       "        [48.1483823 ],\n",
       "        [48.76534182],\n",
       "        [49.38259697]]])"
      ]
     },
     "execution_count": 6,
     "metadata": {},
     "output_type": "execute_result"
    }
   ],
   "source": [
    "u"
   ]
  },
  {
   "cell_type": "code",
   "execution_count": 11,
   "metadata": {},
   "outputs": [
    {
     "data": {
      "text/plain": [
       "[<matplotlib.lines.Line2D at 0x22de1668790>]"
      ]
     },
     "execution_count": 11,
     "metadata": {},
     "output_type": "execute_result"
    },
    {
     "data": {
      "image/png": "[encoded data removed]",
      "text/plain": [
       "<Figure size 640x480 with 1 Axes>"
      ]
     },
     "metadata": {},
     "output_type": "display_data"
    }
   ],
   "source": [
    "plt.plot(tt,u[:,5])"
   ]
  }
 ],
 "metadata": {
  "kernelspec": {
   "display_name": "Python 3",
   "language": "python",
   "name": "python3"
  },
  "language_info": {
   "codemirror_mode": {
    "name": "ipython",
    "version": 3
   },
   "file_extension": ".py",
   "mimetype": "text/x-python",
   "name": "python",
   "nbconvert_exporter": "python",
   "pygments_lexer": "ipython3",
   "version": "3.11.2"
  },
  "orig_nbformat": 4
 },
 "nbformat": 4,
 "nbformat_minor": 2
}
