{
 "cells": [
  {
   "cell_type": "code",
   "execution_count": 33,
   "metadata": {},
   "outputs": [],
   "source": [
    "import numpy as np\n",
    "import matplotlib.pyplot as plt\n",
    "from functions import *"
   ]
  },
  {
   "cell_type": "code",
   "execution_count": 34,
   "metadata": {},
   "outputs": [],
   "source": [
    "num_pontos = 4\n",
    "L = 10 # comprimento da barra\n",
    "Δx = 2 #L / num_pontos\n",
    "Δt = 0.1\n",
    "k = 0.835\n",
    "λ = k * Δt/Δx**2\n",
    "condição_inicial = 0.\n",
    "contorno = np.array([100.,50.])\n",
    "variavel = np.ones(num_pontos) * condição_inicial\n",
    "matriz_coeficiente = CrankNicolson.gerarMatrizCoeficientes(num_pontos,λ)\n",
    "matriz_ampliada = CrankNicolson.gerarMatrizAmpliada(num_pontos,contorno,variavel,λ)"
   ]
  },
  {
   "cell_type": "code",
   "execution_count": 35,
   "metadata": {},
   "outputs": [
    {
     "data": {
      "text/plain": [
       "array([[ 2.04175 , -0.020875,  0.      ,  0.      ],\n",
       "       [-0.020875,  2.04175 , -0.020875,  0.      ],\n",
       "       [ 0.      , -0.020875,  2.04175 , -0.020875],\n",
       "       [ 0.      ,  0.      , -0.020875,  2.04175 ]])"
      ]
     },
     "execution_count": 35,
     "metadata": {},
     "output_type": "execute_result"
    }
   ],
   "source": [
    "matriz_coeficiente"
   ]
  },
  {
   "cell_type": "code",
   "execution_count": 36,
   "metadata": {},
   "outputs": [
    {
     "data": {
      "text/plain": [
       "array([[4.175 ],\n",
       "       [0.    ],\n",
       "       [0.    ],\n",
       "       [2.0875]])"
      ]
     },
     "execution_count": 36,
     "metadata": {},
     "output_type": "execute_result"
    }
   ],
   "source": [
    "matriz_ampliada"
   ]
  },
  {
   "cell_type": "code",
   "execution_count": 37,
   "metadata": {},
   "outputs": [],
   "source": [
    "for _ in np.arange(0,0.2,Δt):\n",
    "    variavel = np.linalg.solve(matriz_coeficiente,matriz_ampliada)\n",
    "    matriz_ampliada = CrankNicolson.gerarMatrizAmpliada(num_pontos,contorno,variavel,λ)"
   ]
  },
  {
   "cell_type": "code",
   "execution_count": 38,
   "metadata": {},
   "outputs": [
    {
     "data": {
      "text/plain": [
       "array([[4.00726894],\n",
       "       [0.08257807],\n",
       "       [0.04223172],\n",
       "       [2.00364732]])"
      ]
     },
     "execution_count": 38,
     "metadata": {},
     "output_type": "execute_result"
    }
   ],
   "source": [
    "variavel"
   ]
  }
 ],
 "metadata": {
  "kernelspec": {
   "display_name": "Python 3",
   "language": "python",
   "name": "python3"
  },
  "language_info": {
   "codemirror_mode": {
    "name": "ipython",
    "version": 3
   },
   "file_extension": ".py",
   "mimetype": "text/x-python",
   "name": "python",
   "nbconvert_exporter": "python",
   "pygments_lexer": "ipython3",
   "version": "3.11.2"
  },
  "orig_nbformat": 4
 },
 "nbformat": 4,
 "nbformat_minor": 2
}
