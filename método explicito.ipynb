{
 "cells": [
  {
   "cell_type": "code",
   "execution_count": 55,
   "metadata": {},
   "outputs": [],
   "source": [
    "import numpy as np\n",
    "import matplotlib.pyplot as plt"
   ]
  },
  {
   "cell_type": "code",
   "execution_count": 56,
   "metadata": {},
   "outputs": [],
   "source": [
    "Δx = 2\n",
    "Δt = 0.1\n",
    "k = 0.835\n",
    "λ = k * Δt/Δx**2\n",
    "u = np.array([0.,0.,0.,0.])\n",
    "contorno = np.array([100.,50.])"
   ]
  },
  {
   "cell_type": "code",
   "execution_count": 57,
   "metadata": {},
   "outputs": [],
   "source": [
    "for _ in np.arange(0,0.1,Δt):\n",
    "    u[0] += λ*(u[1] - 2*u[0] + contorno[0])\n",
    "    u[1] += λ*(u[2] - 2*u[1] + u[0])\n",
    "    u[2] += λ*(u[3] - 2*u[2] + u[1])\n",
    "    u[3] += λ*(contorno[1] - 2*u[3] + u[2])"
   ]
  },
  {
   "cell_type": "code",
   "execution_count": 58,
   "metadata": {},
   "outputs": [
    {
     "name": "stdout",
     "output_type": "stream",
     "text": [
      "[2 0 0 1]\n"
     ]
    }
   ],
   "source": [
    "print(u)"
   ]
  }
 ],
 "metadata": {
  "kernelspec": {
   "display_name": "Python 3",
   "language": "python",
   "name": "python3"
  },
  "language_info": {
   "codemirror_mode": {
    "name": "ipython",
    "version": 3
   },
   "file_extension": ".py",
   "mimetype": "text/x-python",
   "name": "python",
   "nbconvert_exporter": "python",
   "pygments_lexer": "ipython3",
   "version": "3.11.2"
  },
  "orig_nbformat": 4
 },
 "nbformat": 4,
 "nbformat_minor": 2
}
