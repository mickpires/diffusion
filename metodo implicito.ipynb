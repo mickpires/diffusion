{
 "cells": [
  {
   "cell_type": "code",
   "execution_count": 2,
   "metadata": {},
   "outputs": [],
   "source": [
    "import numpy as np\n",
    "import matplotlib.pyplot as plt\n",
    "import scipy.integrate as integrate"
   ]
  },
  {
   "cell_type": "code",
   "execution_count": 3,
   "metadata": {},
   "outputs": [],
   "source": [
    "Δx = 2\n",
    "Δt = 0.1\n",
    "k = 0.835\n",
    "λ = k * Δt/Δx**2\n",
    "variaveis = np.array([0,0,0,0])\n",
    "contorno = np.array([100,50])\n",
    "matriz_coeficiente = np.array(\n",
    "    [[1+2*λ,-λ,0,0],\n",
    "     [-λ,1+2*λ,-λ,0],\n",
    "     [0, -λ,1+2*λ,-λ],\n",
    "     [0,0,-λ,1+2*λ]]\n",
    "     )\n",
    "\n",
    "matriz_ampliada = np.array([variaveis[0] + λ*contorno[0],variaveis[1],variaveis[2],variaveis[3] + λ*contorno[1]]).T"
   ]
  },
  {
   "cell_type": "code",
   "execution_count": 4,
   "metadata": {},
   "outputs": [],
   "source": [
    "for _ in np.arange(0,0.1,Δt):\n",
    "    variaveis = np.linalg.solve(matriz_coeficiente,matriz_ampliada)\n",
    "    matriz_ampliada = np.array([variaveis[0] + λ*contorno[0],variaveis[1],variaveis[2],variaveis[3] + λ*contorno[1]]).T"
   ]
  },
  {
   "cell_type": "code",
   "execution_count": 5,
   "metadata": {},
   "outputs": [
    {
     "data": {
      "text/plain": [
       "array([2.00465303, 0.04058881, 0.02089859, 1.00233862])"
      ]
     },
     "execution_count": 5,
     "metadata": {},
     "output_type": "execute_result"
    }
   ],
   "source": [
    "variaveis"
   ]
  },
  {
   "cell_type": "markdown",
   "metadata": {},
   "source": [
    "Solução analítica"
   ]
  },
  {
   "cell_type": "code",
   "execution_count": 6,
   "metadata": {},
   "outputs": [],
   "source": [
    "def u(x,t):\n",
    "    global k\n",
    "    somatorio = 0\n",
    "    for n in range(1,1000):\n",
    "        # print(somatorio)\n",
    "        somatorio += 100*((-1)**n - 2)/(n * np.pi) * np.sin(n*np.pi*x/10)*np.exp(-k*(n* np.pi/10)**2*t)\n",
    "    return 100 - 5*x + somatorio\n"
   ]
  },
  {
   "cell_type": "code",
   "execution_count": 7,
   "metadata": {},
   "outputs": [
    {
     "data": {
      "text/plain": [
       "9.87627212651887e-05"
      ]
     },
     "execution_count": 7,
     "metadata": {},
     "output_type": "execute_result"
    }
   ],
   "source": [
    "u(2,0.1)"
   ]
  },
  {
   "cell_type": "code",
   "execution_count": 10,
   "metadata": {},
   "outputs": [
    {
     "data": {
      "text/plain": [
       "[<matplotlib.lines.Line2D at 0x1af181f8a90>]"
      ]
     },
     "execution_count": 10,
     "metadata": {},
     "output_type": "execute_result"
    },
    {
     "data": {
      "image/png": "[encoded data removed]",
      "text/plain": [
       "<Figure size 640x480 with 1 Axes>"
      ]
     },
     "metadata": {},
     "output_type": "display_data"
    }
   ],
   "source": [
    "t = np.linspace(0,100,1000)\n",
    "plt.plot(t,u(2,t))"
   ]
  }
 ],
 "metadata": {
  "kernelspec": {
   "display_name": "Python 3",
   "language": "python",
   "name": "python3"
  },
  "language_info": {
   "codemirror_mode": {
    "name": "ipython",
    "version": 3
   },
   "file_extension": ".py",
   "mimetype": "text/x-python",
   "name": "python",
   "nbconvert_exporter": "python",
   "pygments_lexer": "ipython3",
   "version": "3.11.2"
  },
  "orig_nbformat": 4
 },
 "nbformat": 4,
 "nbformat_minor": 2
}
