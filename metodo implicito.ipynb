{
 "cells": [
  {
   "cell_type": "code",
   "execution_count": 38,
   "metadata": {},
   "outputs": [],
   "source": [
    "import numpy as np\n",
    "import matplotlib.pyplot as plt\n",
    "from functions import *"
   ]
  },
  {
   "cell_type": "code",
   "execution_count": 39,
   "metadata": {},
   "outputs": [],
   "source": [
    "u= []\n",
    "L = 10 # comprimento da barra\n",
    "Δx = 0.1 #L / num_pontos\n",
    "Δt = 0.1\n",
    "tempo_final = 100\n",
    "num_pontos = 1000\n",
    "k = 0.835\n",
    "λ = k * Δt/Δx**2\n",
    "condição_inicial = 0.\n",
    "contorno = np.array([100.,50.])\n",
    "variavel = np.ones(num_pontos) * condição_inicial\n",
    "xx = np.linspace(0,L,num_pontos)\n",
    "tt = np.linspace(0,tempo_final,num_pontos)\n",
    "matriz_coeficiente = Implicito.gerarMatrizCoeficientes(num_pontos,λ)\n",
    "matriz_ampliada = Implicito.gerarMatrizAmpliada(num_pontos,contorno,variavel,λ)"
   ]
  },
  {
   "cell_type": "code",
   "execution_count": 40,
   "metadata": {},
   "outputs": [],
   "source": [
    "for _ in np.arange(0,tempo_final,Δt):\n",
    "    variavel = np.linalg.solve(matriz_coeficiente,matriz_ampliada)\n",
    "    u.append(variavel)\n",
    "    matriz_ampliada = Implicito.gerarMatrizAmpliada(num_pontos,contorno,variavel,λ)"
   ]
  },
  {
   "cell_type": "code",
   "execution_count": 41,
   "metadata": {},
   "outputs": [],
   "source": [
    "u = np.array(u)"
   ]
  },
  {
   "cell_type": "code",
   "execution_count": 42,
   "metadata": {},
   "outputs": [
    {
     "data": {
      "text/plain": [
       "array([[[70.86735737],\n",
       "        [50.2218234 ],\n",
       "        [35.59087907],\n",
       "        ...,\n",
       "        [17.79543953],\n",
       "        [25.1109117 ],\n",
       "        [35.43367868]],\n",
       "\n",
       "       [[82.95014151],\n",
       "        [67.34732304],\n",
       "        [53.79546262],\n",
       "        ...,\n",
       "        [26.89773131],\n",
       "        [33.67366152],\n",
       "        [41.47507076]],\n",
       "\n",
       "       [[87.08869728],\n",
       "        [74.67302998],\n",
       "        [63.13469285],\n",
       "        ...,\n",
       "        [31.56734643],\n",
       "        [37.33651499],\n",
       "        [43.54434864]],\n",
       "\n",
       "       ...,\n",
       "\n",
       "       [[99.38173233],\n",
       "        [98.76350182],\n",
       "        [98.1453456 ],\n",
       "        ...,\n",
       "        [49.0726728 ],\n",
       "        [49.38175091],\n",
       "        [49.69086617]],\n",
       "\n",
       "       [[99.38204208],\n",
       "        [98.76412126],\n",
       "        [98.14627462],\n",
       "        ...,\n",
       "        [49.07313731],\n",
       "        [49.38206063],\n",
       "        [49.69102104]],\n",
       "\n",
       "       [[99.38235137],\n",
       "        [98.76473977],\n",
       "        [98.14720225],\n",
       "        ...,\n",
       "        [49.07360113],\n",
       "        [49.38236989],\n",
       "        [49.69117568]]])"
      ]
     },
     "execution_count": 42,
     "metadata": {},
     "output_type": "execute_result"
    }
   ],
   "source": [
    "u"
   ]
  },
  {
   "cell_type": "code",
   "execution_count": 43,
   "metadata": {},
   "outputs": [
    {
     "name": "stdout",
     "output_type": "stream",
     "text": [
      "100\n"
     ]
    }
   ],
   "source": [
    "for i in range(len(xx)):\n",
    "    if xx[i] > 1:\n",
    "        print(i)\n",
    "        break"
   ]
  },
  {
   "cell_type": "code",
   "execution_count": 53,
   "metadata": {},
   "outputs": [
    {
     "data": {
      "text/plain": [
       "[<matplotlib.lines.Line2D at 0x1dcb705d910>]"
      ]
     },
     "execution_count": 53,
     "metadata": {},
     "output_type": "execute_result"
    },
    {
     "data": {
      "image/png": "[encoded data removed]",
      "text/plain": [
       "<Figure size 640x480 with 1 Axes>"
      ]
     },
     "metadata": {},
     "output_type": "display_data"
    }
   ],
   "source": [
    "plt.plot(tt,u[:,11])"
   ]
  }
 ],
 "metadata": {
  "kernelspec": {
   "display_name": "Python 3",
   "language": "python",
   "name": "python3"
  },
  "language_info": {
   "codemirror_mode": {
    "name": "ipython",
    "version": 3
   },
   "file_extension": ".py",
   "mimetype": "text/x-python",
   "name": "python",
   "nbconvert_exporter": "python",
   "pygments_lexer": "ipython3",
   "version": "3.11.2"
  },
  "orig_nbformat": 4
 },
 "nbformat": 4,
 "nbformat_minor": 2
}
