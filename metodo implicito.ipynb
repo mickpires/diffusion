{
 "cells": [
  {
   "cell_type": "code",
   "execution_count": 19,
   "metadata": {},
   "outputs": [],
   "source": [
    "import numpy as np\n",
    "import matplotlib.pyplot as plt\n",
    "from functions import *"
   ]
  },
  {
   "cell_type": "code",
   "execution_count": 20,
   "metadata": {},
   "outputs": [],
   "source": [
    "num_pontos = 5\n",
    "L = 10 # comprimento da barra\n",
    "Δx = L / num_pontos\n",
    "Δt = 0.1\n",
    "k = 0.835\n",
    "λ = k * Δt/Δx**2\n",
    "condição_inicial = 0.\n",
    "contorno = np.array([100.,50.])\n",
    "variavel = np.ones(num_pontos) * condição_inicial\n",
    "matriz_coeficiente = gerarMatrizCoeficientes(num_pontos,λ)\n",
    "matriz_ampliada = gerarMatrizAmpliada(num_pontos,contorno,variavel,λ)"
   ]
  },
  {
   "cell_type": "code",
   "execution_count": 21,
   "metadata": {},
   "outputs": [],
   "source": [
    "for _ in np.arange(0,0.1,Δt):\n",
    "    variavel = np.linalg.solve(matriz_coeficiente,matriz_ampliada)\n",
    "    matriz_ampliada = gerarMatrizAmpliada(num_pontos,contorno,variavel,λ)"
   ]
  }
 ],
 "metadata": {
  "kernelspec": {
   "display_name": "Python 3",
   "language": "python",
   "name": "python3"
  },
  "language_info": {
   "codemirror_mode": {
    "name": "ipython",
    "version": 3
   },
   "file_extension": ".py",
   "mimetype": "text/x-python",
   "name": "python",
   "nbconvert_exporter": "python",
   "pygments_lexer": "ipython3",
   "version": "3.11.2"
  },
  "orig_nbformat": 4
 },
 "nbformat": 4,
 "nbformat_minor": 2
}
